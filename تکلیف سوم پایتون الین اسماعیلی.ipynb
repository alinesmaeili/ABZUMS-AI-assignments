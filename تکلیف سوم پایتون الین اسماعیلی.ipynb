{
 "cells": [
  {
   "cell_type": "markdown",
   "id": "971de089",
   "metadata": {},
   "source": [
    "# Assignment 3: Functions, Lambda, Exception Handling\n",
    "\n",
    "**Course:** AbzumsAI Programming 1404\n",
    "\n",
    "**Instructor:** Mr. Ali Mohammadzadeh Shabestari\n",
    "\n",
    "**Date Assigned:** June 28, 2025\n",
    "\n",
    "**Deadline:** July 2, 2025"
   ]
  },
  {
   "cell_type": "markdown",
   "id": "a37e7992",
   "metadata": {},
   "source": [
    "Read the function below carefully.\n",
    "- In your own words, explain what this function does step by step.\n",
    "- Write your explanation in the following cell 👇"
   ]
  },
  {
   "cell_type": "markdown",
   "id": "08247c0f",
   "metadata": {},
   "source": [
    "## Learning Objectives\n",
    "\n",
    "By the end of this notebook, you will:\n",
    "\n",
    "- Define and call functions with parameters and return values in Python.\n",
    "- Use default parameters and understand how functions improve code reusability.\n",
    "- Create and apply anonymous functions using lambda syntax.\n",
    "- Use lambda with built-in functions like `map()` and `filter()` to process data concisely.\n",
    "- Handle runtime errors gracefully using `try` and `except` blocks.\n",
    "- Write robust programs that validate user input and prevent crashes due to exceptions.\n",
    "\n",
    "---"
   ]
  },
  {
   "cell_type": "markdown",
   "id": "20adfbee",
   "metadata": {},
   "source": [
    "# Cell 0: Student Information\n",
    "\n",
    "### Please enter your details for grading purposes:\n",
    "\n",
    "Your Name: alinesmaeili\n",
    "\n",
    "Your Email:alinesmaeili@gmail.com\n",
    "\n",
    "Your GtiHub Link:"
   ]
  },
  {
   "cell_type": "markdown",
   "id": "f52707df",
   "metadata": {},
   "source": [
    "## Cell 1: Basic Function Definition"
   ]
  },
  {
   "cell_type": "markdown",
   "id": "0e9b1c2c",
   "metadata": {},
   "source": [
    "Write a function called `greet` that\n",
    "- Takes a name as input, and prints \"Hello, `name`!\"\n"
   ]
  },
  {
   "cell_type": "code",
   "execution_count": 21,
   "id": "e32c723b",
   "metadata": {},
   "outputs": [
    {
     "data": {
      "text/plain": [
       "'hello , alin'"
      ]
     },
     "execution_count": 21,
     "metadata": {},
     "output_type": "execute_result"
    }
   ],
   "source": [
    "def greet(name):\n",
    "    return f\"hello , {name}\"\n",
    "name = input(\"what's your name? \")\n",
    "greet(\"alin\")"
   ]
  },
  {
   "cell_type": "markdown",
   "id": "343fbe55",
   "metadata": {},
   "source": [
    "## Cell 2: Function with Return Value"
   ]
  },
  {
   "cell_type": "markdown",
   "id": "ec478dc6",
   "metadata": {},
   "source": [
    "Write a function `analyze_numbers` that takes two numbers as input. The function should:\n",
    "- Print both numbers\n",
    "- Calculate their sum\n",
    "- Print whether the sum is even or odd\n",
    "- Return the sum\n",
    "\n"
   ]
  },
  {
   "cell_type": "code",
   "execution_count": 15,
   "id": "8061cdba",
   "metadata": {},
   "outputs": [
    {
     "name": "stdout",
     "output_type": "stream",
     "text": [
      "15 is odd.\n"
     ]
    },
    {
     "data": {
      "text/plain": [
       "16"
      ]
     },
     "execution_count": 15,
     "metadata": {},
     "output_type": "execute_result"
    }
   ],
   "source": [
    "def analyze_numbers(number1,number2):\n",
    "    result = number1 + number2\n",
    "    if result % 2 == 1:\n",
    "        print(f\"{result} is odd.\")\n",
    "    else: \n",
    "        print(f\"{result} is even.\")\n",
    "    return number2+ number2\n",
    "analyze_numbers(7,8)\n",
    "  \n",
    " \n"
   ]
  },
  {
   "cell_type": "markdown",
   "id": "0711bafc",
   "metadata": {},
   "source": [
    "## Cell 3: Fucntion with Multiple Return Value"
   ]
  },
  {
   "cell_type": "markdown",
   "id": "c1532d72",
   "metadata": {},
   "source": [
    "Write a function called find_a_b that takes two numbers as input:\n",
    "- The sum of two unknown numbers (x + y)\n",
    "- The difference of those same two numbers (x - y)\n",
    "\n",
    "The function should:\n",
    "- Calculate and return the original numbers x and y in order (x, y)\n",
    "- Assume that x > y"
   ]
  },
  {
   "cell_type": "code",
   "execution_count": 18,
   "id": "2fc06915",
   "metadata": {},
   "outputs": [
    {
     "name": "stdout",
     "output_type": "stream",
     "text": [
      "please write your higher value number first.\n"
     ]
    },
    {
     "data": {
      "text/plain": [
       "(13, -1)"
      ]
     },
     "execution_count": 18,
     "metadata": {},
     "output_type": "execute_result"
    }
   ],
   "source": [
    "def find_a_b(x, y):\n",
    "    result1 = x + y\n",
    "    result2 = x - y\n",
    "    if result2 < 0:\n",
    "        print(\"please write your higher value number first.\")\n",
    "    return x + y , x - y\n",
    "find_a_b(6,7)\n"
   ]
  },
  {
   "cell_type": "markdown",
   "id": "884813ad",
   "metadata": {},
   "source": [
    "## Cell 4: Function with Default Argument"
   ]
  },
  {
   "cell_type": "markdown",
   "id": "f09b013a",
   "metadata": {},
   "source": [
    "🌱 Your Answer: sp this one is actually a price calculating program. so at first we use def to create a function which gets 3 variable as its input. then by defining the variable discount_amount we use it to calculate the price after the discount and inform the costumer by printing the results. then we do the same process for tax, and at the end we rururn the final price which we rounded up to 2 digits."
   ]
  },
  {
   "cell_type": "code",
   "execution_count": null,
   "id": "7c224bb3",
   "metadata": {},
   "outputs": [],
   "source": [
    "def calculate_discounted_price(price, discount=10, tax=5):\n",
    "    print(f\"Original price: ${price}\")\n",
    "    \n",
    "    discount_amount = price * (discount / 100)\n",
    "    price_after_discount = price - discount_amount\n",
    "    print(f\"Discount ({discount}%): -${discount_amount}\")\n",
    "    print(f\"Price after discount: ${price_after_discount}\")\n",
    "    \n",
    "    tax_amount = price_after_discount * (tax / 100)\n",
    "    final_price = price_after_discount + tax_amount\n",
    "    print(f\"Tax ({tax}%): +${tax_amount}\")\n",
    "    print(f\"Final price: ${final_price}\")\n",
    "    \n",
    "    return round(final_price, 2)\n",
    "\n",
    "# Example usage:\n",
    "calculate_discounted_price(100)"
   ]
  },
  {
   "cell_type": "markdown",
   "id": "f52389fd",
   "metadata": {},
   "source": [
    "## Cell 5: Lambda with `map()`"
   ]
  },
  {
   "cell_type": "markdown",
   "id": "9e6be806",
   "metadata": {},
   "source": [
    "You are given a list of full names in the format \"First Last\".\n",
    "- Use `map()` and a `lambda` function to extract only the first names from the list."
   ]
  },
  {
   "cell_type": "code",
   "execution_count": 30,
   "id": "ee4c20c3",
   "metadata": {},
   "outputs": [
    {
     "name": "stdout",
     "output_type": "stream",
     "text": [
      "['Alexander', 'Elizabeth', 'Edward', 'William']\n"
     ]
    }
   ],
   "source": [
    "full_names = [\"Alexander Fleming\", \"Elizabeth Blackwell\", \"Edward Jenner\", \"William Osler\"]\n",
    "\n",
    "first_names = list(map(lambda x:x.split() , full_names))\n",
    "actual_list = list(map( lambda x: x[0] , first_names))\n",
    "print(actual_list)\n"
   ]
  },
  {
   "cell_type": "markdown",
   "id": "11355cd8",
   "metadata": {},
   "source": [
    "## Cell 6: Lambda with `filter()`"
   ]
  },
  {
   "cell_type": "markdown",
   "id": "3a9dd04a",
   "metadata": {},
   "source": [
    "You are given a list of user dictionaries. Each user has a name, age, and an \"active\" status.\n",
    "Use `filter()` and a `lambda` function to select users who:\n",
    "- Are at least 18 years old\n",
    "- Have 'active' set to True\n",
    "\n",
    "💡 Make use of `and` operator"
   ]
  },
  {
   "cell_type": "code",
   "execution_count": 36,
   "id": "4dd5903d",
   "metadata": {},
   "outputs": [
    {
     "name": "stdout",
     "output_type": "stream",
     "text": [
      "[{'name': 'Reza', 'age': 19, 'active': True}, {'name': 'Lina', 'age': 25, 'active': True}]\n"
     ]
    }
   ],
   "source": [
    "users = [\n",
    "    {\"name\": \"Ali\", \"age\": 17, \"active\": True},\n",
    "    {\"name\": \"Sara\", \"age\": 22, \"active\": False},\n",
    "    {\"name\": \"Reza\", \"age\": 19, \"active\": True},\n",
    "    {\"name\": \"Lina\", \"age\": 25, \"active\": True},\n",
    "    {\"name\": \"Mona\", \"age\": 16, \"active\": True},\n",
    "    {\"name\": \"Javad\", \"age\": 20, \"active\": False},\n",
    "]\n",
    "filtered_list = list(filter(lambda user: user[\"age\"]>=18 and user[\"active\"] is True , users))\n",
    "print(filtered_list)"
   ]
  },
  {
   "cell_type": "markdown",
   "id": "3c88871f",
   "metadata": {},
   "source": [
    "## Cell 7: Exception Handling"
   ]
  },
  {
   "cell_type": "markdown",
   "id": "70f56881",
   "metadata": {},
   "source": [
    "Carefully read the following code.\n",
    "- Do NOT run or modify it yet.\n",
    "- In the next cell, explain in your own words what this program does, step by step. 👇"
   ]
  },
  {
   "cell_type": "markdown",
   "id": "4e9e5779",
   "metadata": {},
   "source": [
    "🌱 Your Answer: so this code is actually written for a dividing program. and in order to prevent the program from crashing, we use try and except to to handle the error. so the first except is used for situations such as when the user enters a strings as the numerator or denominator and it'll handle the \"type error\". the next one is for when the user enter 0 as the denominator and it'll handle the \"zerodivision error\". so by writing continue we allow the program to run its course and handle the errors. and at last by writing the else we tell the program to in any conditions except the 2 error above that we predicted, print the result, and at the end thank the user for using the program."
   ]
  },
  {
   "cell_type": "code",
   "execution_count": null,
   "id": "42bbaecd",
   "metadata": {},
   "outputs": [],
   "source": [
    "while True:\n",
    "    try:\n",
    "        numerator = float(input(\"Enter the numerator: \"))\n",
    "        denominator = float(input(\"Enter the denominator: \"))\n",
    "\n",
    "        result = numerator / denominator\n",
    "    except ValueError:\n",
    "        print(\"⚠️ Please enter valid numeric values.\")\n",
    "        continue\n",
    "    except ZeroDivisionError:\n",
    "        print(\"⚠️ Denominator cannot be zero. Try again.\")\n",
    "        continue\n",
    "    else:\n",
    "        print(f\"✅ Result: {round(result, 3)}\")\n",
    "        break\n",
    "    finally:\n",
    "        print(\"📘 Thank you for using the divider.\\n\")"
   ]
  }
 ],
 "metadata": {
  "kernelspec": {
   "display_name": "Python 3",
   "language": "python",
   "name": "python3"
  },
  "language_info": {
   "codemirror_mode": {
    "name": "ipython",
    "version": 3
   },
   "file_extension": ".py",
   "mimetype": "text/x-python",
   "name": "python",
   "nbconvert_exporter": "python",
   "pygments_lexer": "ipython3",
   "version": "3.10.0"
  }
 },
 "nbformat": 4,
 "nbformat_minor": 5
}
