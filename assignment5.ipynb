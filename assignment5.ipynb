{
 "cells": [
  {
   "cell_type": "markdown",
   "id": "8a2b4c6d",
   "metadata": {},
   "source": [
    "# Assignment 5: File Handling, Comprehension, Modules\n",
    "\n",
    "**Course:** AbzumsAI Programming 1404\n",
    "\n",
    "**Instructor:** Mr. Ali Mohammadzadeh Shabestari\n",
    "\n",
    "**Date Assigned:** July 16, 2025\n",
    "\n",
    "**Deadline:** July 20, 2025"
   ]
  },
  {
   "cell_type": "markdown",
   "id": "5e3f8a1b",
   "metadata": {},
   "source": [
    "## 🔹 3.1 File Handling"
   ]
  },
  {
   "cell_type": "markdown",
   "id": "d4e5f7a2",
   "metadata": {},
   "source": [
    "### 📝 Task 1: Read a text file\n",
    "\n",
    "Create a text file named 'sample.txt' with some content, then read and print its contents.\n",
    "\n",
    "**Expected Output:**\n",
    "```\n",
    "[Content of your file]\n",
    "```"
   ]
  },
  {
   "cell_type": "code",
   "execution_count": 1,
   "id": "b3c8d9f1",
   "metadata": {},
   "outputs": [
    {
     "ename": "FileNotFoundError",
     "evalue": "[Errno 2] No such file or directory: 'assignment.text'",
     "output_type": "error",
     "traceback": [
      "\u001b[1;31m---------------------------------------------------------------------------\u001b[0m",
      "\u001b[1;31mFileNotFoundError\u001b[0m                         Traceback (most recent call last)",
      "Cell \u001b[1;32mIn[1], line 1\u001b[0m\n\u001b[1;32m----> 1\u001b[0m \u001b[38;5;28;01mwith\u001b[39;00m \u001b[38;5;28;43mopen\u001b[39;49m\u001b[43m(\u001b[49m\u001b[38;5;124;43m\"\u001b[39;49m\u001b[38;5;124;43massignment.text\u001b[39;49m\u001b[38;5;124;43m\"\u001b[39;49m\u001b[43m \u001b[49m\u001b[43m,\u001b[49m\u001b[43m \u001b[49m\u001b[38;5;124;43m\"\u001b[39;49m\u001b[38;5;124;43mr\u001b[39;49m\u001b[38;5;124;43m\"\u001b[39;49m\u001b[43m)\u001b[49m \u001b[38;5;28;01mas\u001b[39;00m file:\n\u001b[0;32m      2\u001b[0m     content \u001b[38;5;241m=\u001b[39m file\u001b[38;5;241m.\u001b[39mread()\n\u001b[0;32m      3\u001b[0m     \u001b[38;5;28mprint\u001b[39m(content)\n",
      "File \u001b[1;32m~\\AppData\\Local\\Programs\\Python\\Python310\\lib\\site-packages\\IPython\\core\\interactiveshell.py:324\u001b[0m, in \u001b[0;36m_modified_open\u001b[1;34m(file, *args, **kwargs)\u001b[0m\n\u001b[0;32m    317\u001b[0m \u001b[38;5;28;01mif\u001b[39;00m file \u001b[38;5;129;01min\u001b[39;00m {\u001b[38;5;241m0\u001b[39m, \u001b[38;5;241m1\u001b[39m, \u001b[38;5;241m2\u001b[39m}:\n\u001b[0;32m    318\u001b[0m     \u001b[38;5;28;01mraise\u001b[39;00m \u001b[38;5;167;01mValueError\u001b[39;00m(\n\u001b[0;32m    319\u001b[0m         \u001b[38;5;124mf\u001b[39m\u001b[38;5;124m\"\u001b[39m\u001b[38;5;124mIPython won\u001b[39m\u001b[38;5;124m'\u001b[39m\u001b[38;5;124mt let you open fd=\u001b[39m\u001b[38;5;132;01m{\u001b[39;00mfile\u001b[38;5;132;01m}\u001b[39;00m\u001b[38;5;124m by default \u001b[39m\u001b[38;5;124m\"\u001b[39m\n\u001b[0;32m    320\u001b[0m         \u001b[38;5;124m\"\u001b[39m\u001b[38;5;124mas it is likely to crash IPython. If you know what you are doing, \u001b[39m\u001b[38;5;124m\"\u001b[39m\n\u001b[0;32m    321\u001b[0m         \u001b[38;5;124m\"\u001b[39m\u001b[38;5;124myou can use builtins\u001b[39m\u001b[38;5;124m'\u001b[39m\u001b[38;5;124m open.\u001b[39m\u001b[38;5;124m\"\u001b[39m\n\u001b[0;32m    322\u001b[0m     )\n\u001b[1;32m--> 324\u001b[0m \u001b[38;5;28;01mreturn\u001b[39;00m io_open(file, \u001b[38;5;241m*\u001b[39margs, \u001b[38;5;241m*\u001b[39m\u001b[38;5;241m*\u001b[39mkwargs)\n",
      "\u001b[1;31mFileNotFoundError\u001b[0m: [Errno 2] No such file or directory: 'assignment.text'"
     ]
    }
   ],
   "source": [
    "with open(\"assignment.text\" , \"r\") as file:\n",
    "    content = file.read()\n",
    "    print(content)\n",
    "with open(\"assignment.txt\" , \"w\") as file:\n",
    "    file.write()"
   ]
  },
  {
   "cell_type": "markdown",
   "id": "e5f6g7h8",
   "metadata": {},
   "source": [
    "### 📝 Task 2: Write to a CSV file\n",
    "\n",
    "Create a CSV file named 'data.csv' and write the following data:\n",
    "```\n",
    "Name,Age,Occupation\n",
    "Alice,30,Engineer\n",
    "Bob,25,Designer\n",
    "```"
   ]
  },
  {
   "cell_type": "code",
   "execution_count": 2,
   "id": "i9j0k1l2",
   "metadata": {},
   "outputs": [
    {
     "ename": "ModuleNotFoundError",
     "evalue": "No module named 'pandas'",
     "output_type": "error",
     "traceback": [
      "\u001b[1;31m---------------------------------------------------------------------------\u001b[0m",
      "\u001b[1;31mModuleNotFoundError\u001b[0m                       Traceback (most recent call last)",
      "Cell \u001b[1;32mIn[2], line 1\u001b[0m\n\u001b[1;32m----> 1\u001b[0m \u001b[38;5;28;01mimport\u001b[39;00m\u001b[38;5;250m \u001b[39m\u001b[38;5;21;01mpandas\u001b[39;00m\u001b[38;5;250m \u001b[39m\u001b[38;5;28;01mas\u001b[39;00m\u001b[38;5;250m \u001b[39m\u001b[38;5;21;01mpd\u001b[39;00m\n\u001b[0;32m      2\u001b[0m df \u001b[38;5;241m=\u001b[39m pd\u001b[38;5;241m.\u001b[39mread_csv(\u001b[38;5;124m\"\u001b[39m\u001b[38;5;124mdata.csv\u001b[39m\u001b[38;5;124m\"\u001b[39m)\n",
      "\u001b[1;31mModuleNotFoundError\u001b[0m: No module named 'pandas'"
     ]
    }
   ],
   "source": [
    "import pandas as pd\n",
    "df = pd.read_csv(\"data.csv\")\n"
   ]
  },
  {
   "cell_type": "markdown",
   "id": "q7r8s9t0",
   "metadata": {},
   "source": [
    "### 📝 Task 3: JSON file operations\n",
    "\n",
    "Create a dictionary, save it to a JSON file named 'config.json', then read it back and print it.\n",
    "\n",
    "**Expected Output:**\n",
    "```\n",
    "{'name': 'Test', 'value': 42}\n",
    "```"
   ]
  },
  {
   "cell_type": "code",
   "execution_count": null,
   "id": "u1v2w3x4",
   "metadata": {},
   "outputs": [],
   "source": [
    "file_name = \"config.json\"\n",
    "with open (file_name , \"w\") as json_file:\n",
    "     json.dump(my_dict, jason_file, indent =4)\n",
    "    print(f\"dictionary saved to {file_name}\")\n",
    "with open (file_name , \"r\") as json_file:\n",
    "    loaded_dict = json.load(jason_file)\n",
    "print(\"data read from config.json\")\n",
    "print(loaded_dict)\n"
   ]
  },
  {
   "cell_type": "markdown",
   "id": "c9d8e7f6",
   "metadata": {},
   "source": [
    "## 🔹 3.2 Comprehensions"
   ]
  },
  {
   "cell_type": "markdown",
   "id": "g5h4i3j2",
   "metadata": {},
   "source": [
    "### 📝 Task 1: List comprehension\n",
    "\n",
    "Create a list of squares for numbers 0 through 9 using list comprehension.\n",
    "\n",
    "**Expected Output:**\n",
    "```\n",
    "[0, 1, 4, 9, 16, 25, 36, 49, 64, 81]\n",
    "```"
   ]
  },
  {
   "cell_type": "code",
   "execution_count": null,
   "id": "k1l2m3n4",
   "metadata": {},
   "outputs": [],
   "source": [
    "squares = [i**2 for i in range(10)]"
   ]
  },
  {
   "cell_type": "markdown",
   "id": "s9t0u1v2",
   "metadata": {},
   "source": [
    "### 📝 Task 2: Dictionary comprehension\n",
    "\n",
    "Create a dictionary where keys are numbers 1 through 5 and values are their cubes.\n",
    "\n",
    "**Expected Output:**\n",
    "```\n",
    "{1: 1, 2: 8, 3: 27, 4: 64, 5: 125}\n",
    "```"
   ]
  },
  {
   "cell_type": "code",
   "execution_count": null,
   "id": "w3x4y5z6",
   "metadata": {},
   "outputs": [],
   "source": [
    "cubes_dict = {i : i**3 for i in range(1,6)}"
   ]
  },
  {
   "cell_type": "markdown",
   "id": "e1f2g3h4",
   "metadata": {},
   "source": [
    "### 📝 Task 3: Filtered list comprehension\n",
    "\n",
    "Create a list of even numbers from 0 to 20 using list comprehension with a condition.\n",
    "\n",
    "**Expected Output:**\n",
    "```\n",
    "[0, 2, 4, 6, 8, 10, 12, 14, 16, 18, 20]\n",
    "```"
   ]
  },
  {
   "cell_type": "code",
   "execution_count": null,
   "id": "i5j6k7l8",
   "metadata": {},
   "outputs": [],
   "source": [
    "even_numbers = [i for i in range(21) if i % 2 == 0]"
   ]
  },
  {
   "cell_type": "markdown",
   "id": "m9n0o1p2",
   "metadata": {},
   "source": [
    "<details>\n",
    "<summary>🔍 Click to reveal the solution</summary>\n",
    "\n",
    "```python\n",
    "evens = [x for x in range(21) if x % 2 == 0]\n",
    "print(evens)\n",
    "```\n",
    "\n",
    "</details>"
   ]
  },
  {
   "cell_type": "markdown",
   "id": "q3r4s5t6",
   "metadata": {},
   "source": [
    "## 🔹 3.3 Modules and Packages"
   ]
  },
  {
   "cell_type": "markdown",
   "id": "u7v8w9x0",
   "metadata": {},
   "source": [
    "### 📝 Task 1: Import a module\n",
    "\n",
    "Import the math module and calculate the square root of 16.\n",
    "\n",
    "**Expected Output:**\n",
    "```\n",
    "4.0\n",
    "```"
   ]
  },
  {
   "cell_type": "code",
   "execution_count": null,
   "id": "y1z2a3b4",
   "metadata": {},
   "outputs": [],
   "source": [
    "import math\n",
    "result = math.sqrt(16)\n",
    "print(result)"
   ]
  },
  {
   "cell_type": "markdown",
   "id": "g9h0i1j2",
   "metadata": {},
   "source": [
    "### 📝 Task 2: Import specific function\n",
    "\n",
    "From the random module, import the randint function and generate a random number between 1 and 10.\n",
    "\n",
    "**Note:** Output will vary as it's random."
   ]
  },
  {
   "cell_type": "code",
   "execution_count": 3,
   "id": "k3l4m5n6",
   "metadata": {},
   "outputs": [
    {
     "ename": "ImportError",
     "evalue": "cannot import name 'randiant' from 'random' (C:\\Users\\asus\\AppData\\Local\\Programs\\Python\\Python310\\lib\\random.py)",
     "output_type": "error",
     "traceback": [
      "\u001b[1;31m---------------------------------------------------------------------------\u001b[0m",
      "\u001b[1;31mImportError\u001b[0m                               Traceback (most recent call last)",
      "Cell \u001b[1;32mIn[3], line 1\u001b[0m\n\u001b[1;32m----> 1\u001b[0m \u001b[38;5;28;01mfrom\u001b[39;00m\u001b[38;5;250m \u001b[39m\u001b[38;5;21;01mrandom\u001b[39;00m\u001b[38;5;250m \u001b[39m\u001b[38;5;28;01mimport\u001b[39;00m randiant\n\u001b[0;32m      2\u001b[0m random_number \u001b[38;5;241m=\u001b[39m randiant(\u001b[38;5;241m1\u001b[39m,\u001b[38;5;241m10\u001b[39m)\n",
      "\u001b[1;31mImportError\u001b[0m: cannot import name 'randiant' from 'random' (C:\\Users\\asus\\AppData\\Local\\Programs\\Python\\Python310\\lib\\random.py)"
     ]
    }
   ],
   "source": [
    "from random import randint\n",
    "random_number = randint(1,10)\n"
   ]
  },
  {
   "cell_type": "markdown",
   "id": "s1t2u3v4",
   "metadata": {},
   "source": [
    "### 📝 Task 3: Create and import your own module\n",
    "\n",
    "1. Create a file named `mymodule.py` with a function `greet(name)` that returns \"Hello, [name]!\"\n",
    "2. Import and use this function in your notebook.\n",
    "\n",
    "**Expected Output:**\n",
    "```\n",
    "Hello, Alice!\n",
    "```"
   ]
  },
  {
   "cell_type": "code",
   "execution_count": null,
   "id": "w5x6y7z8",
   "metadata": {},
   "outputs": [],
   "source": [
    "from mymodule import greet\n",
    "message = greet(\"alin\")"
   ]
  },
  {
   "cell_type": "markdown",
   "id": "e3f4g5h6",
   "metadata": {},
   "source": [
    "### 📝 Task 4: Package import\n",
    "\n",
    "Import the datetime module and print the current date in the format: YYYY-MM-DD.\n",
    "\n",
    "**Note:** Output will vary based on current date."
   ]
  },
  {
   "cell_type": "code",
   "execution_count": 4,
   "id": "i7j8k9l0",
   "metadata": {},
   "outputs": [
    {
     "ename": "NameError",
     "evalue": "name 'current_datetime' is not defined",
     "output_type": "error",
     "traceback": [
      "\u001b[1;31m---------------------------------------------------------------------------\u001b[0m",
      "\u001b[1;31mNameError\u001b[0m                                 Traceback (most recent call last)",
      "Cell \u001b[1;32mIn[4], line 3\u001b[0m\n\u001b[0;32m      1\u001b[0m \u001b[38;5;28;01mimport\u001b[39;00m\u001b[38;5;250m \u001b[39m\u001b[38;5;21;01mdatetime\u001b[39;00m\n\u001b[0;32m      2\u001b[0m datetime\u001b[38;5;241m.\u001b[39mdatetime\u001b[38;5;241m.\u001b[39mnow()\n\u001b[1;32m----> 3\u001b[0m formatted_date \u001b[38;5;241m=\u001b[39m \u001b[43mcurrent_datetime\u001b[49m\u001b[38;5;241m.\u001b[39mstrftime(\u001b[38;5;124m\"\u001b[39m\u001b[38;5;124m%\u001b[39m\u001b[38;5;124mY-\u001b[39m\u001b[38;5;124m%\u001b[39m\u001b[38;5;124mm-\u001b[39m\u001b[38;5;132;01m%d\u001b[39;00m\u001b[38;5;124m\"\u001b[39m)\n",
      "\u001b[1;31mNameError\u001b[0m: name 'current_datetime' is not defined"
     ]
    }
   ],
   "source": [
    "import datetime\n",
    "current_datetime = datetime.datetime.now()\n",
    "formatted_date = current_datetime.strftime(\"%Y-%m-%d\")\n"
   ]
  }
 ],
 "metadata": {
  "kernelspec": {
   "display_name": "Python 3",
   "language": "python",
   "name": "python3"
  },
  "language_info": {
   "codemirror_mode": {
    "name": "ipython",
    "version": 3
   },
   "file_extension": ".py",
   "mimetype": "text/x-python",
   "name": "python",
   "nbconvert_exporter": "python",
   "pygments_lexer": "ipython3",
   "version": "3.10.0"
  }
 },
 "nbformat": 4,
 "nbformat_minor": 5
}
