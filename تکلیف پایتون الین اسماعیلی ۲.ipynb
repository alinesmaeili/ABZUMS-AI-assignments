{
 "cells": [
  {
   "cell_type": "markdown",
   "id": "d9bcc2b8",
   "metadata": {},
   "source": [
    "# Assignment 2: Control Flow, Loop\n",
    "\n",
    "**Course:** AbzumsAI Programming 1404\n",
    "\n",
    "**Instructor:** Mr. Ali Mohammadzadeh Shabestari\n",
    "\n",
    "**Date Assigned:** June 15, 2025\n",
    "\n",
    "**Deadline:** June 18, 2025"
   ]
  },
  {
   "cell_type": "markdown",
   "id": "6e9a9d57",
   "metadata": {},
   "source": [
    "## Learning Objectives\n",
    "\n",
    "By the end of this notebook, you will:\n",
    "\n",
    "- Understand how to control program flow using if, elif, and else statements.\n",
    "\n",
    "- Learn how to write nested if statements and apply logical operators (and, or, not).\n",
    "\n",
    "- Use for loops to iterate over ranges, lists, strings, and other iterable objects.\n",
    "\n",
    "- Use while loops to execute code repeatedly while a condition is true.\n",
    "\n",
    "- Apply loop control statements (break and continue) to modify loop behavior.\n",
    "\n",
    "---"
   ]
  },
  {
   "cell_type": "markdown",
   "id": "bc082db1",
   "metadata": {},
   "source": [
    "# Cell 0: Student Information\n",
    "\n",
    "### Please enter your details for grading purposes:\n",
    "\n",
    "Your Name: alin esmaeili\n",
    "\n",
    "Your Email:alinesmaeili@gmail.com\n",
    "\n",
    "Your Gthub Link:"
   ]
  },
  {
   "cell_type": "markdown",
   "id": "b60f1c78",
   "metadata": {},
   "source": [
    "## Cell 1: `if`, `elif`, `else` Control Flow"
   ]
  },
  {
   "cell_type": "markdown",
   "id": "09b5c94a",
   "metadata": {},
   "source": [
    "Write a program that reads a temperature (integer input).\n",
    "\n",
    "- If temperature > 30, print \"It's a hot day.\"\n",
    "\n",
    "- If temperature > 20, print \"It's a nice day.\"\n",
    "\n",
    "- If temperature > 10, print \"It's a bit chilly.\"\n",
    "\n",
    "- Otherwise, print \"It's cold outside.\""
   ]
  },
  {
   "cell_type": "code",
   "execution_count": 4,
   "id": "23744f8c",
   "metadata": {},
   "outputs": [
    {
     "name": "stdout",
     "output_type": "stream",
     "text": [
      "it's a hot day.\n"
     ]
    }
   ],
   "source": [
    "temprature = int(input(\"what's the temprature? \"))\n",
    "if temprature > 30:\n",
    "   print(\"it's a hot day.\")\n",
    "elif   20 <temprature< 30:\n",
    "   print(\"it's a nice day.\")\n",
    "elif temprature < 10:\n",
    "   print(\"it's a bit chily.\")\n",
    "else:\n",
    "    print(\"it's a cold day\")\n",
    "     \n",
    "\n"
   ]
  },
  {
   "cell_type": "markdown",
   "id": "60e5a456",
   "metadata": {},
   "source": [
    "## Cell 2: Nested `if` statements"
   ]
  },
  {
   "cell_type": "markdown",
   "id": "86b9f19e",
   "metadata": {},
   "source": [
    "Check concert eligibility.\n",
    "\n",
    "- Read user's age (integer input) and whether they have a ticket (boolean input: True/False).\n",
    "\n",
    "- If the user is 18 or older AND has a ticket, print \"You can enter the concert.\"\n",
    "\n",
    "- If the user is 18 or older BUT doesn't have a ticket, print \"You need a ticket to enter.\"\n",
    "\n",
    "- Otherwise, print \"You are too young for the concert.\"\n"
   ]
  },
  {
   "cell_type": "code",
   "execution_count": 5,
   "id": "34be97ed",
   "metadata": {},
   "outputs": [
    {
     "name": "stdout",
     "output_type": "stream",
     "text": [
      "you can enter the concert.\n"
     ]
    }
   ],
   "source": [
    "age = int(input(\"how old are you? \"))\n",
    "ticket = bool(input(\"do you have a ticket? rutirn in true or false. \"))\n",
    "if age > 18 and ticket is True:\n",
    "    print(\"you can enter the concert.\")\n",
    "elif age > 18 and ticket is False:\n",
    "    print(\"you need a ticket to enter.\")\n",
    "else:\n",
    "    print(\"you are too young for the concert.\")\n",
    "   "
   ]
  },
  {
   "cell_type": "markdown",
   "id": "2df49f77",
   "metadata": {},
   "source": [
    "## Cell 3: Iterating over collections"
   ]
  },
  {
   "cell_type": "markdown",
   "id": "fe3ac152",
   "metadata": {},
   "source": [
    "- Create a list of 5 fruits.\n",
    "\n",
    "- Use a for loop to print \"I like [fruit]\" for each fruit in the list.\n",
    "\n",
    "- Then iterate over the string \"Python\" and print each letter on a separate line.\n"
   ]
  },
  {
   "cell_type": "code",
   "execution_count": 9,
   "id": "d3c5e8bb",
   "metadata": {},
   "outputs": [
    {
     "name": "stdout",
     "output_type": "stream",
     "text": [
      "i like  apple\n",
      "i like  mango\n",
      "i like  orange\n",
      "i like  watermelon\n",
      "i like  peach\n",
      "p\n",
      "y\n",
      "t\n",
      "h\n",
      "o\n",
      "n\n"
     ]
    }
   ],
   "source": [
    "fruits = [\"apple\" , \"mango\" , \"orange\" , \"watermelon\" , \"peach\"]\n",
    "for fruit in fruits:\n",
    "    print(\"i like \" , fruit)\n",
    "my_word = \"python\"\n",
    "for letter in my_word:\n",
    "    print(letter)"
   ]
  },
  {
   "cell_type": "markdown",
   "id": "7a9ee851",
   "metadata": {},
   "source": [
    "## Cell 4: `for` loop with `range()`"
   ]
  },
  {
   "cell_type": "markdown",
   "id": "bf0220d9",
   "metadata": {},
   "source": [
    "Use a for loop to:\n",
    "\n",
    "a) Print numbers from 1 to 10.\n",
    "\n",
    "b) Calculate and print the sum of numbers from 1 to 10.\n"
   ]
  },
  {
   "cell_type": "code",
   "execution_count": 13,
   "id": "f4255b85",
   "metadata": {},
   "outputs": [
    {
     "name": "stdout",
     "output_type": "stream",
     "text": [
      "1\n",
      "2\n",
      "3\n",
      "4\n",
      "5\n",
      "6\n",
      "7\n",
      "8\n",
      "9\n",
      "10\n"
     ]
    },
    {
     "ename": "TypeError",
     "evalue": "'builtin_function_or_method' object is not subscriptable",
     "output_type": "error",
     "traceback": [
      "\u001b[1;31m---------------------------------------------------------------------------\u001b[0m",
      "\u001b[1;31mTypeError\u001b[0m                                 Traceback (most recent call last)",
      "Cell \u001b[1;32mIn[13], line 4\u001b[0m\n\u001b[0;32m      2\u001b[0m     \u001b[38;5;28mprint\u001b[39m(i)\n\u001b[0;32m      3\u001b[0m \u001b[38;5;28;01mfor\u001b[39;00m i \u001b[38;5;129;01min\u001b[39;00m \u001b[38;5;28mrange\u001b[39m(\u001b[38;5;241m1\u001b[39m,\u001b[38;5;241m11\u001b[39m):\n\u001b[1;32m----> 4\u001b[0m     \u001b[38;5;28;43msum\u001b[39;49m\u001b[43m \u001b[49m\u001b[43m[\u001b[49m\u001b[43mi\u001b[49m\u001b[43m]\u001b[49m\n\u001b[0;32m      5\u001b[0m     \u001b[38;5;28mprint\u001b[39m(\u001b[38;5;28msum\u001b[39m)\n",
      "\u001b[1;31mTypeError\u001b[0m: 'builtin_function_or_method' object is not subscriptable"
     ]
    }
   ],
   "source": [
    "for i in range(1,11):\n",
    "    print(i)\n",
    "for i in range(1,11):\n",
    "    sum \n",
    "    print(sum)"
   ]
  },
  {
   "cell_type": "markdown",
   "id": "fe210e58",
   "metadata": {},
   "source": [
    "## Cell 5: `while` loops and loop control (`break`, `continue`)"
   ]
  },
  {
   "cell_type": "markdown",
   "id": "e2ff6b31",
   "metadata": {},
   "source": [
    "Use a `while` loop to count from 1 upwards.\n",
    "\n",
    "- If count reaches 3, skip printing (use continue).\n",
    "\n",
    "- If count reaches 7, stop the loop (use break).\n",
    "\n",
    "- Otherwise, print the current count.\n"
   ]
  },
  {
   "cell_type": "code",
   "execution_count": null,
   "id": "51dfb5ae",
   "metadata": {},
   "outputs": [],
   "source": [
    "count = 1\n",
    "while True:\n",
    "    if count ==3:\n",
    "        count+=1\n",
    "        continue\n",
    "    if count==7:\n",
    "        break\n",
    "print(count)\n",
    "count +=1\n",
    "       "
   ]
  }
 ],
 "metadata": {
  "interpreter": {
   "hash": "1e649b193d03f972cce0fc4f5c57764441ad8ceea30bfcf30b505dea29a3b4c0"
  },
  "kernelspec": {
   "display_name": "Python 3.10.0 64-bit",
   "language": "python",
   "name": "python3"
  },
  "language_info": {
   "codemirror_mode": {
    "name": "ipython",
    "version": 3
   },
   "file_extension": ".py",
   "mimetype": "text/x-python",
   "name": "python",
   "nbconvert_exporter": "python",
   "pygments_lexer": "ipython3",
   "version": "3.10.0"
  }
 },
 "nbformat": 4,
 "nbformat_minor": 5
}
